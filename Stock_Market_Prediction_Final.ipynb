{
  "nbformat": 4,
  "nbformat_minor": 0,
  "metadata": {
    "colab": {
      "provenance": [],
      "mount_file_id": "1Hjp_-IchUi0qwZZp4N0GnWSrOIdR0ZZ8",
      "authorship_tag": "ABX9TyNtHImdGQQt8br8EMQQ9Za/",
      "include_colab_link": true
    },
    "kernelspec": {
      "name": "python3",
      "display_name": "Python 3"
    },
    "language_info": {
      "name": "python"
    }
  },
  "cells": [
    {
      "cell_type": "markdown",
      "metadata": {
        "id": "view-in-github",
        "colab_type": "text"
      },
      "source": [
        "<a href=\"https://colab.research.google.com/github/ramankmuduli/CodeClause-First-Project/blob/main/Stock_Market_Prediction_Final.ipynb\" target=\"_parent\"><img src=\"https://colab.research.google.com/assets/colab-badge.svg\" alt=\"Open In Colab\"/></a>"
      ]
    },
    {
      "cell_type": "markdown",
      "source": [
        "**Raman Kumar Muduli**\n",
        "\n",
        "**Code Clause Data Science Internship Task**\n",
        "\n",
        "**1. Stock Market Prediction**\n",
        "\n"
      ],
      "metadata": {
        "id": "o-hNWiaplXys"
      }
    },
    {
      "cell_type": "code",
      "source": [
        "import pandas as pd\n",
        "import numpy as np \n",
        "import matplotlib.pyplot as plt \n",
        "from sklearn.preprocessing import MinMaxScaler\n",
        "\n",
        "#Ignoring warnings \n",
        "import warnings\n",
        "warnings.filterwarnings(\"ignore\")"
      ],
      "metadata": {
        "id": "5V3bZDhNlYD2"
      },
      "execution_count": 2,
      "outputs": []
    },
    {
      "cell_type": "code",
      "source": [
        "dataset_link = \"/content/drive/MyDrive/CodeClause Project/NSE-TATAGLOBAL.csv\"\n",
        "data = pd.read_csv(dataset_link)\n",
        "data.head()"
      ],
      "metadata": {
        "colab": {
          "base_uri": "https://localhost:8080/",
          "height": 206
        },
        "id": "Lp_R9bMTleIQ",
        "outputId": "e6f45ee9-13ba-457f-fc47-2d5d558771ee"
      },
      "execution_count": 3,
      "outputs": [
        {
          "output_type": "execute_result",
          "data": {
            "text/plain": [
              "         Date    Open    High     Low    Last   Close  Total Trade Quantity  \\\n",
              "0  2018-09-28  234.05  235.95  230.20  233.50  233.75               3069914   \n",
              "1  2018-09-27  234.55  236.80  231.10  233.80  233.25               5082859   \n",
              "2  2018-09-26  240.00  240.00  232.50  235.00  234.25               2240909   \n",
              "3  2018-09-25  233.30  236.75  232.00  236.25  236.10               2349368   \n",
              "4  2018-09-24  233.55  239.20  230.75  234.00  233.30               3423509   \n",
              "\n",
              "   Turnover (Lacs)  \n",
              "0          7162.35  \n",
              "1         11859.95  \n",
              "2          5248.60  \n",
              "3          5503.90  \n",
              "4          7999.55  "
            ],
            "text/html": [
              "\n",
              "  <div id=\"df-c7899c13-5b4b-4f13-a6b9-9ca90b941829\">\n",
              "    <div class=\"colab-df-container\">\n",
              "      <div>\n",
              "<style scoped>\n",
              "    .dataframe tbody tr th:only-of-type {\n",
              "        vertical-align: middle;\n",
              "    }\n",
              "\n",
              "    .dataframe tbody tr th {\n",
              "        vertical-align: top;\n",
              "    }\n",
              "\n",
              "    .dataframe thead th {\n",
              "        text-align: right;\n",
              "    }\n",
              "</style>\n",
              "<table border=\"1\" class=\"dataframe\">\n",
              "  <thead>\n",
              "    <tr style=\"text-align: right;\">\n",
              "      <th></th>\n",
              "      <th>Date</th>\n",
              "      <th>Open</th>\n",
              "      <th>High</th>\n",
              "      <th>Low</th>\n",
              "      <th>Last</th>\n",
              "      <th>Close</th>\n",
              "      <th>Total Trade Quantity</th>\n",
              "      <th>Turnover (Lacs)</th>\n",
              "    </tr>\n",
              "  </thead>\n",
              "  <tbody>\n",
              "    <tr>\n",
              "      <th>0</th>\n",
              "      <td>2018-09-28</td>\n",
              "      <td>234.05</td>\n",
              "      <td>235.95</td>\n",
              "      <td>230.20</td>\n",
              "      <td>233.50</td>\n",
              "      <td>233.75</td>\n",
              "      <td>3069914</td>\n",
              "      <td>7162.35</td>\n",
              "    </tr>\n",
              "    <tr>\n",
              "      <th>1</th>\n",
              "      <td>2018-09-27</td>\n",
              "      <td>234.55</td>\n",
              "      <td>236.80</td>\n",
              "      <td>231.10</td>\n",
              "      <td>233.80</td>\n",
              "      <td>233.25</td>\n",
              "      <td>5082859</td>\n",
              "      <td>11859.95</td>\n",
              "    </tr>\n",
              "    <tr>\n",
              "      <th>2</th>\n",
              "      <td>2018-09-26</td>\n",
              "      <td>240.00</td>\n",
              "      <td>240.00</td>\n",
              "      <td>232.50</td>\n",
              "      <td>235.00</td>\n",
              "      <td>234.25</td>\n",
              "      <td>2240909</td>\n",
              "      <td>5248.60</td>\n",
              "    </tr>\n",
              "    <tr>\n",
              "      <th>3</th>\n",
              "      <td>2018-09-25</td>\n",
              "      <td>233.30</td>\n",
              "      <td>236.75</td>\n",
              "      <td>232.00</td>\n",
              "      <td>236.25</td>\n",
              "      <td>236.10</td>\n",
              "      <td>2349368</td>\n",
              "      <td>5503.90</td>\n",
              "    </tr>\n",
              "    <tr>\n",
              "      <th>4</th>\n",
              "      <td>2018-09-24</td>\n",
              "      <td>233.55</td>\n",
              "      <td>239.20</td>\n",
              "      <td>230.75</td>\n",
              "      <td>234.00</td>\n",
              "      <td>233.30</td>\n",
              "      <td>3423509</td>\n",
              "      <td>7999.55</td>\n",
              "    </tr>\n",
              "  </tbody>\n",
              "</table>\n",
              "</div>\n",
              "      <button class=\"colab-df-convert\" onclick=\"convertToInteractive('df-c7899c13-5b4b-4f13-a6b9-9ca90b941829')\"\n",
              "              title=\"Convert this dataframe to an interactive table.\"\n",
              "              style=\"display:none;\">\n",
              "        \n",
              "  <svg xmlns=\"http://www.w3.org/2000/svg\" height=\"24px\"viewBox=\"0 0 24 24\"\n",
              "       width=\"24px\">\n",
              "    <path d=\"M0 0h24v24H0V0z\" fill=\"none\"/>\n",
              "    <path d=\"M18.56 5.44l.94 2.06.94-2.06 2.06-.94-2.06-.94-.94-2.06-.94 2.06-2.06.94zm-11 1L8.5 8.5l.94-2.06 2.06-.94-2.06-.94L8.5 2.5l-.94 2.06-2.06.94zm10 10l.94 2.06.94-2.06 2.06-.94-2.06-.94-.94-2.06-.94 2.06-2.06.94z\"/><path d=\"M17.41 7.96l-1.37-1.37c-.4-.4-.92-.59-1.43-.59-.52 0-1.04.2-1.43.59L10.3 9.45l-7.72 7.72c-.78.78-.78 2.05 0 2.83L4 21.41c.39.39.9.59 1.41.59.51 0 1.02-.2 1.41-.59l7.78-7.78 2.81-2.81c.8-.78.8-2.07 0-2.86zM5.41 20L4 18.59l7.72-7.72 1.47 1.35L5.41 20z\"/>\n",
              "  </svg>\n",
              "      </button>\n",
              "      \n",
              "  <style>\n",
              "    .colab-df-container {\n",
              "      display:flex;\n",
              "      flex-wrap:wrap;\n",
              "      gap: 12px;\n",
              "    }\n",
              "\n",
              "    .colab-df-convert {\n",
              "      background-color: #E8F0FE;\n",
              "      border: none;\n",
              "      border-radius: 50%;\n",
              "      cursor: pointer;\n",
              "      display: none;\n",
              "      fill: #1967D2;\n",
              "      height: 32px;\n",
              "      padding: 0 0 0 0;\n",
              "      width: 32px;\n",
              "    }\n",
              "\n",
              "    .colab-df-convert:hover {\n",
              "      background-color: #E2EBFA;\n",
              "      box-shadow: 0px 1px 2px rgba(60, 64, 67, 0.3), 0px 1px 3px 1px rgba(60, 64, 67, 0.15);\n",
              "      fill: #174EA6;\n",
              "    }\n",
              "\n",
              "    [theme=dark] .colab-df-convert {\n",
              "      background-color: #3B4455;\n",
              "      fill: #D2E3FC;\n",
              "    }\n",
              "\n",
              "    [theme=dark] .colab-df-convert:hover {\n",
              "      background-color: #434B5C;\n",
              "      box-shadow: 0px 1px 3px 1px rgba(0, 0, 0, 0.15);\n",
              "      filter: drop-shadow(0px 1px 2px rgba(0, 0, 0, 0.3));\n",
              "      fill: #FFFFFF;\n",
              "    }\n",
              "  </style>\n",
              "\n",
              "      <script>\n",
              "        const buttonEl =\n",
              "          document.querySelector('#df-c7899c13-5b4b-4f13-a6b9-9ca90b941829 button.colab-df-convert');\n",
              "        buttonEl.style.display =\n",
              "          google.colab.kernel.accessAllowed ? 'block' : 'none';\n",
              "\n",
              "        async function convertToInteractive(key) {\n",
              "          const element = document.querySelector('#df-c7899c13-5b4b-4f13-a6b9-9ca90b941829');\n",
              "          const dataTable =\n",
              "            await google.colab.kernel.invokeFunction('convertToInteractive',\n",
              "                                                     [key], {});\n",
              "          if (!dataTable) return;\n",
              "\n",
              "          const docLinkHtml = 'Like what you see? Visit the ' +\n",
              "            '<a target=\"_blank\" href=https://colab.research.google.com/notebooks/data_table.ipynb>data table notebook</a>'\n",
              "            + ' to learn more about interactive tables.';\n",
              "          element.innerHTML = '';\n",
              "          dataTable['output_type'] = 'display_data';\n",
              "          await google.colab.output.renderOutput(dataTable, element);\n",
              "          const docLink = document.createElement('div');\n",
              "          docLink.innerHTML = docLinkHtml;\n",
              "          element.appendChild(docLink);\n",
              "        }\n",
              "      </script>\n",
              "    </div>\n",
              "  </div>\n",
              "  "
            ]
          },
          "metadata": {},
          "execution_count": 3
        }
      ]
    },
    {
      "cell_type": "code",
      "source": [
        "data.isnull().sum()\n",
        "# No null values so we can proceed"
      ],
      "metadata": {
        "colab": {
          "base_uri": "https://localhost:8080/"
        },
        "id": "svlyevRNlsQw",
        "outputId": "f09559db-4050-4c57-885f-90f2352c97a9"
      },
      "execution_count": 4,
      "outputs": [
        {
          "output_type": "execute_result",
          "data": {
            "text/plain": [
              "Date                    0\n",
              "Open                    0\n",
              "High                    0\n",
              "Low                     0\n",
              "Last                    0\n",
              "Close                   0\n",
              "Total Trade Quantity    0\n",
              "Turnover (Lacs)         0\n",
              "dtype: int64"
            ]
          },
          "metadata": {},
          "execution_count": 4
        }
      ]
    },
    {
      "cell_type": "code",
      "source": [
        "pip install tensorflow"
      ],
      "metadata": {
        "colab": {
          "base_uri": "https://localhost:8080/"
        },
        "id": "GVUKdJ9Zlvls",
        "outputId": "71dfea94-06cf-4065-9ea8-eb51b78959ee"
      },
      "execution_count": 5,
      "outputs": [
        {
          "output_type": "stream",
          "name": "stdout",
          "text": [
            "Looking in indexes: https://pypi.org/simple, https://us-python.pkg.dev/colab-wheels/public/simple/\n",
            "Requirement already satisfied: tensorflow in /usr/local/lib/python3.8/dist-packages (2.9.2)\n",
            "Requirement already satisfied: typing-extensions>=3.6.6 in /usr/local/lib/python3.8/dist-packages (from tensorflow) (4.4.0)\n",
            "Requirement already satisfied: keras-preprocessing>=1.1.1 in /usr/local/lib/python3.8/dist-packages (from tensorflow) (1.1.2)\n",
            "Requirement already satisfied: setuptools in /usr/local/lib/python3.8/dist-packages (from tensorflow) (57.4.0)\n",
            "Requirement already satisfied: libclang>=13.0.0 in /usr/local/lib/python3.8/dist-packages (from tensorflow) (14.0.6)\n",
            "Requirement already satisfied: keras<2.10.0,>=2.9.0rc0 in /usr/local/lib/python3.8/dist-packages (from tensorflow) (2.9.0)\n",
            "Requirement already satisfied: grpcio<2.0,>=1.24.3 in /usr/local/lib/python3.8/dist-packages (from tensorflow) (1.51.1)\n",
            "Requirement already satisfied: opt-einsum>=2.3.2 in /usr/local/lib/python3.8/dist-packages (from tensorflow) (3.3.0)\n",
            "Requirement already satisfied: tensorboard<2.10,>=2.9 in /usr/local/lib/python3.8/dist-packages (from tensorflow) (2.9.1)\n",
            "Requirement already satisfied: flatbuffers<2,>=1.12 in /usr/local/lib/python3.8/dist-packages (from tensorflow) (1.12)\n",
            "Requirement already satisfied: h5py>=2.9.0 in /usr/local/lib/python3.8/dist-packages (from tensorflow) (3.1.0)\n",
            "Requirement already satisfied: protobuf<3.20,>=3.9.2 in /usr/local/lib/python3.8/dist-packages (from tensorflow) (3.19.6)\n",
            "Requirement already satisfied: packaging in /usr/local/lib/python3.8/dist-packages (from tensorflow) (21.3)\n",
            "Requirement already satisfied: absl-py>=1.0.0 in /usr/local/lib/python3.8/dist-packages (from tensorflow) (1.3.0)\n",
            "Requirement already satisfied: numpy>=1.20 in /usr/local/lib/python3.8/dist-packages (from tensorflow) (1.21.6)\n",
            "Requirement already satisfied: google-pasta>=0.1.1 in /usr/local/lib/python3.8/dist-packages (from tensorflow) (0.2.0)\n",
            "Requirement already satisfied: tensorflow-io-gcs-filesystem>=0.23.1 in /usr/local/lib/python3.8/dist-packages (from tensorflow) (0.28.0)\n",
            "Requirement already satisfied: termcolor>=1.1.0 in /usr/local/lib/python3.8/dist-packages (from tensorflow) (2.1.1)\n",
            "Requirement already satisfied: astunparse>=1.6.0 in /usr/local/lib/python3.8/dist-packages (from tensorflow) (1.6.3)\n",
            "Requirement already satisfied: six>=1.12.0 in /usr/local/lib/python3.8/dist-packages (from tensorflow) (1.15.0)\n",
            "Requirement already satisfied: wrapt>=1.11.0 in /usr/local/lib/python3.8/dist-packages (from tensorflow) (1.14.1)\n",
            "Requirement already satisfied: gast<=0.4.0,>=0.2.1 in /usr/local/lib/python3.8/dist-packages (from tensorflow) (0.4.0)\n",
            "Requirement already satisfied: tensorflow-estimator<2.10.0,>=2.9.0rc0 in /usr/local/lib/python3.8/dist-packages (from tensorflow) (2.9.0)\n",
            "Requirement already satisfied: wheel<1.0,>=0.23.0 in /usr/local/lib/python3.8/dist-packages (from astunparse>=1.6.0->tensorflow) (0.38.4)\n",
            "Requirement already satisfied: google-auth-oauthlib<0.5,>=0.4.1 in /usr/local/lib/python3.8/dist-packages (from tensorboard<2.10,>=2.9->tensorflow) (0.4.6)\n",
            "Requirement already satisfied: google-auth<3,>=1.6.3 in /usr/local/lib/python3.8/dist-packages (from tensorboard<2.10,>=2.9->tensorflow) (2.15.0)\n",
            "Requirement already satisfied: requests<3,>=2.21.0 in /usr/local/lib/python3.8/dist-packages (from tensorboard<2.10,>=2.9->tensorflow) (2.23.0)\n",
            "Requirement already satisfied: tensorboard-data-server<0.7.0,>=0.6.0 in /usr/local/lib/python3.8/dist-packages (from tensorboard<2.10,>=2.9->tensorflow) (0.6.1)\n",
            "Requirement already satisfied: markdown>=2.6.8 in /usr/local/lib/python3.8/dist-packages (from tensorboard<2.10,>=2.9->tensorflow) (3.4.1)\n",
            "Requirement already satisfied: werkzeug>=1.0.1 in /usr/local/lib/python3.8/dist-packages (from tensorboard<2.10,>=2.9->tensorflow) (1.0.1)\n",
            "Requirement already satisfied: tensorboard-plugin-wit>=1.6.0 in /usr/local/lib/python3.8/dist-packages (from tensorboard<2.10,>=2.9->tensorflow) (1.8.1)\n",
            "Requirement already satisfied: pyasn1-modules>=0.2.1 in /usr/local/lib/python3.8/dist-packages (from google-auth<3,>=1.6.3->tensorboard<2.10,>=2.9->tensorflow) (0.2.8)\n",
            "Requirement already satisfied: cachetools<6.0,>=2.0.0 in /usr/local/lib/python3.8/dist-packages (from google-auth<3,>=1.6.3->tensorboard<2.10,>=2.9->tensorflow) (5.2.0)\n",
            "Requirement already satisfied: rsa<5,>=3.1.4 in /usr/local/lib/python3.8/dist-packages (from google-auth<3,>=1.6.3->tensorboard<2.10,>=2.9->tensorflow) (4.9)\n",
            "Requirement already satisfied: requests-oauthlib>=0.7.0 in /usr/local/lib/python3.8/dist-packages (from google-auth-oauthlib<0.5,>=0.4.1->tensorboard<2.10,>=2.9->tensorflow) (1.3.1)\n",
            "Requirement already satisfied: importlib-metadata>=4.4 in /usr/local/lib/python3.8/dist-packages (from markdown>=2.6.8->tensorboard<2.10,>=2.9->tensorflow) (5.1.0)\n",
            "Requirement already satisfied: zipp>=0.5 in /usr/local/lib/python3.8/dist-packages (from importlib-metadata>=4.4->markdown>=2.6.8->tensorboard<2.10,>=2.9->tensorflow) (3.11.0)\n",
            "Requirement already satisfied: pyasn1<0.5.0,>=0.4.6 in /usr/local/lib/python3.8/dist-packages (from pyasn1-modules>=0.2.1->google-auth<3,>=1.6.3->tensorboard<2.10,>=2.9->tensorflow) (0.4.8)\n",
            "Requirement already satisfied: idna<3,>=2.5 in /usr/local/lib/python3.8/dist-packages (from requests<3,>=2.21.0->tensorboard<2.10,>=2.9->tensorflow) (2.10)\n",
            "Requirement already satisfied: urllib3!=1.25.0,!=1.25.1,<1.26,>=1.21.1 in /usr/local/lib/python3.8/dist-packages (from requests<3,>=2.21.0->tensorboard<2.10,>=2.9->tensorflow) (1.24.3)\n",
            "Requirement already satisfied: chardet<4,>=3.0.2 in /usr/local/lib/python3.8/dist-packages (from requests<3,>=2.21.0->tensorboard<2.10,>=2.9->tensorflow) (3.0.4)\n",
            "Requirement already satisfied: certifi>=2017.4.17 in /usr/local/lib/python3.8/dist-packages (from requests<3,>=2.21.0->tensorboard<2.10,>=2.9->tensorflow) (2022.12.7)\n",
            "Requirement already satisfied: oauthlib>=3.0.0 in /usr/local/lib/python3.8/dist-packages (from requests-oauthlib>=0.7.0->google-auth-oauthlib<0.5,>=0.4.1->tensorboard<2.10,>=2.9->tensorflow) (3.2.2)\n",
            "Requirement already satisfied: pyparsing!=3.0.5,>=2.0.2 in /usr/local/lib/python3.8/dist-packages (from packaging->tensorflow) (3.0.9)\n"
          ]
        }
      ]
    },
    {
      "cell_type": "code",
      "source": [
        "data['Date'] = pd.to_datetime(data['Date'])"
      ],
      "metadata": {
        "id": "yYK6_GAhlzDy"
      },
      "execution_count": 6,
      "outputs": []
    },
    {
      "cell_type": "code",
      "source": [
        "\n",
        "df = data.sort_values('Date')\n",
        "df.head()"
      ],
      "metadata": {
        "colab": {
          "base_uri": "https://localhost:8080/",
          "height": 206
        },
        "id": "rJye9bu3l1Nz",
        "outputId": "683dc8b2-e52d-462f-ee3b-23e9d8b22a69"
      },
      "execution_count": 7,
      "outputs": [
        {
          "output_type": "execute_result",
          "data": {
            "text/plain": [
              "           Date   Open    High     Low    Last   Close  Total Trade Quantity  \\\n",
              "2034 2010-07-21  122.1  123.00  121.05  121.10  121.55                658666   \n",
              "2033 2010-07-22  120.3  122.00  120.25  120.75  120.90                293312   \n",
              "2032 2010-07-23  121.8  121.95  120.25  120.35  120.65                281312   \n",
              "2031 2010-07-26  120.1  121.00  117.10  117.10  117.60                658440   \n",
              "2030 2010-07-27  117.6  119.50  112.00  118.80  118.65                586100   \n",
              "\n",
              "      Turnover (Lacs)  \n",
              "2034           803.56  \n",
              "2033           355.17  \n",
              "2032           340.31  \n",
              "2031           780.01  \n",
              "2030           694.98  "
            ],
            "text/html": [
              "\n",
              "  <div id=\"df-10db050b-be55-4427-bd13-657c9afbe183\">\n",
              "    <div class=\"colab-df-container\">\n",
              "      <div>\n",
              "<style scoped>\n",
              "    .dataframe tbody tr th:only-of-type {\n",
              "        vertical-align: middle;\n",
              "    }\n",
              "\n",
              "    .dataframe tbody tr th {\n",
              "        vertical-align: top;\n",
              "    }\n",
              "\n",
              "    .dataframe thead th {\n",
              "        text-align: right;\n",
              "    }\n",
              "</style>\n",
              "<table border=\"1\" class=\"dataframe\">\n",
              "  <thead>\n",
              "    <tr style=\"text-align: right;\">\n",
              "      <th></th>\n",
              "      <th>Date</th>\n",
              "      <th>Open</th>\n",
              "      <th>High</th>\n",
              "      <th>Low</th>\n",
              "      <th>Last</th>\n",
              "      <th>Close</th>\n",
              "      <th>Total Trade Quantity</th>\n",
              "      <th>Turnover (Lacs)</th>\n",
              "    </tr>\n",
              "  </thead>\n",
              "  <tbody>\n",
              "    <tr>\n",
              "      <th>2034</th>\n",
              "      <td>2010-07-21</td>\n",
              "      <td>122.1</td>\n",
              "      <td>123.00</td>\n",
              "      <td>121.05</td>\n",
              "      <td>121.10</td>\n",
              "      <td>121.55</td>\n",
              "      <td>658666</td>\n",
              "      <td>803.56</td>\n",
              "    </tr>\n",
              "    <tr>\n",
              "      <th>2033</th>\n",
              "      <td>2010-07-22</td>\n",
              "      <td>120.3</td>\n",
              "      <td>122.00</td>\n",
              "      <td>120.25</td>\n",
              "      <td>120.75</td>\n",
              "      <td>120.90</td>\n",
              "      <td>293312</td>\n",
              "      <td>355.17</td>\n",
              "    </tr>\n",
              "    <tr>\n",
              "      <th>2032</th>\n",
              "      <td>2010-07-23</td>\n",
              "      <td>121.8</td>\n",
              "      <td>121.95</td>\n",
              "      <td>120.25</td>\n",
              "      <td>120.35</td>\n",
              "      <td>120.65</td>\n",
              "      <td>281312</td>\n",
              "      <td>340.31</td>\n",
              "    </tr>\n",
              "    <tr>\n",
              "      <th>2031</th>\n",
              "      <td>2010-07-26</td>\n",
              "      <td>120.1</td>\n",
              "      <td>121.00</td>\n",
              "      <td>117.10</td>\n",
              "      <td>117.10</td>\n",
              "      <td>117.60</td>\n",
              "      <td>658440</td>\n",
              "      <td>780.01</td>\n",
              "    </tr>\n",
              "    <tr>\n",
              "      <th>2030</th>\n",
              "      <td>2010-07-27</td>\n",
              "      <td>117.6</td>\n",
              "      <td>119.50</td>\n",
              "      <td>112.00</td>\n",
              "      <td>118.80</td>\n",
              "      <td>118.65</td>\n",
              "      <td>586100</td>\n",
              "      <td>694.98</td>\n",
              "    </tr>\n",
              "  </tbody>\n",
              "</table>\n",
              "</div>\n",
              "      <button class=\"colab-df-convert\" onclick=\"convertToInteractive('df-10db050b-be55-4427-bd13-657c9afbe183')\"\n",
              "              title=\"Convert this dataframe to an interactive table.\"\n",
              "              style=\"display:none;\">\n",
              "        \n",
              "  <svg xmlns=\"http://www.w3.org/2000/svg\" height=\"24px\"viewBox=\"0 0 24 24\"\n",
              "       width=\"24px\">\n",
              "    <path d=\"M0 0h24v24H0V0z\" fill=\"none\"/>\n",
              "    <path d=\"M18.56 5.44l.94 2.06.94-2.06 2.06-.94-2.06-.94-.94-2.06-.94 2.06-2.06.94zm-11 1L8.5 8.5l.94-2.06 2.06-.94-2.06-.94L8.5 2.5l-.94 2.06-2.06.94zm10 10l.94 2.06.94-2.06 2.06-.94-2.06-.94-.94-2.06-.94 2.06-2.06.94z\"/><path d=\"M17.41 7.96l-1.37-1.37c-.4-.4-.92-.59-1.43-.59-.52 0-1.04.2-1.43.59L10.3 9.45l-7.72 7.72c-.78.78-.78 2.05 0 2.83L4 21.41c.39.39.9.59 1.41.59.51 0 1.02-.2 1.41-.59l7.78-7.78 2.81-2.81c.8-.78.8-2.07 0-2.86zM5.41 20L4 18.59l7.72-7.72 1.47 1.35L5.41 20z\"/>\n",
              "  </svg>\n",
              "      </button>\n",
              "      \n",
              "  <style>\n",
              "    .colab-df-container {\n",
              "      display:flex;\n",
              "      flex-wrap:wrap;\n",
              "      gap: 12px;\n",
              "    }\n",
              "\n",
              "    .colab-df-convert {\n",
              "      background-color: #E8F0FE;\n",
              "      border: none;\n",
              "      border-radius: 50%;\n",
              "      cursor: pointer;\n",
              "      display: none;\n",
              "      fill: #1967D2;\n",
              "      height: 32px;\n",
              "      padding: 0 0 0 0;\n",
              "      width: 32px;\n",
              "    }\n",
              "\n",
              "    .colab-df-convert:hover {\n",
              "      background-color: #E2EBFA;\n",
              "      box-shadow: 0px 1px 2px rgba(60, 64, 67, 0.3), 0px 1px 3px 1px rgba(60, 64, 67, 0.15);\n",
              "      fill: #174EA6;\n",
              "    }\n",
              "\n",
              "    [theme=dark] .colab-df-convert {\n",
              "      background-color: #3B4455;\n",
              "      fill: #D2E3FC;\n",
              "    }\n",
              "\n",
              "    [theme=dark] .colab-df-convert:hover {\n",
              "      background-color: #434B5C;\n",
              "      box-shadow: 0px 1px 3px 1px rgba(0, 0, 0, 0.15);\n",
              "      filter: drop-shadow(0px 1px 2px rgba(0, 0, 0, 0.3));\n",
              "      fill: #FFFFFF;\n",
              "    }\n",
              "  </style>\n",
              "\n",
              "      <script>\n",
              "        const buttonEl =\n",
              "          document.querySelector('#df-10db050b-be55-4427-bd13-657c9afbe183 button.colab-df-convert');\n",
              "        buttonEl.style.display =\n",
              "          google.colab.kernel.accessAllowed ? 'block' : 'none';\n",
              "\n",
              "        async function convertToInteractive(key) {\n",
              "          const element = document.querySelector('#df-10db050b-be55-4427-bd13-657c9afbe183');\n",
              "          const dataTable =\n",
              "            await google.colab.kernel.invokeFunction('convertToInteractive',\n",
              "                                                     [key], {});\n",
              "          if (!dataTable) return;\n",
              "\n",
              "          const docLinkHtml = 'Like what you see? Visit the ' +\n",
              "            '<a target=\"_blank\" href=https://colab.research.google.com/notebooks/data_table.ipynb>data table notebook</a>'\n",
              "            + ' to learn more about interactive tables.';\n",
              "          element.innerHTML = '';\n",
              "          dataTable['output_type'] = 'display_data';\n",
              "          await google.colab.output.renderOutput(dataTable, element);\n",
              "          const docLink = document.createElement('div');\n",
              "          docLink.innerHTML = docLinkHtml;\n",
              "          element.appendChild(docLink);\n",
              "        }\n",
              "      </script>\n",
              "    </div>\n",
              "  </div>\n",
              "  "
            ]
          },
          "metadata": {},
          "execution_count": 7
        }
      ]
    },
    {
      "cell_type": "code",
      "source": [
        "df.reset_index(inplace=True)"
      ],
      "metadata": {
        "id": "X03IRO-Il40J"
      },
      "execution_count": 8,
      "outputs": []
    },
    {
      "cell_type": "code",
      "source": [
        "plt.plot(df['Close'])"
      ],
      "metadata": {
        "colab": {
          "base_uri": "https://localhost:8080/",
          "height": 283
        },
        "id": "mcp-wucml8PO",
        "outputId": "32a069b4-3241-4a3b-ac3f-88679647bb31"
      },
      "execution_count": 9,
      "outputs": [
        {
          "output_type": "execute_result",
          "data": {
            "text/plain": [
              "[<matplotlib.lines.Line2D at 0x7f3b51a78730>]"
            ]
          },
          "metadata": {},
          "execution_count": 9
        },
        {
          "output_type": "display_data",
          "data": {
            "text/plain": [
              "<Figure size 432x288 with 1 Axes>"
            ],
            "image/png": "[encoded data removed]"
          },
          "metadata": {
            "needs_background": "light"
          }
        }
      ]
    },
    {
      "cell_type": "code",
      "source": [
        "df_close = df['Close']\n",
        "df_close"
      ],
      "metadata": {
        "colab": {
          "base_uri": "https://localhost:8080/"
        },
        "id": "r2E3ET1Xl-qo",
        "outputId": "35214b7c-e617-4e76-8ed2-a3d502024499"
      },
      "execution_count": 10,
      "outputs": [
        {
          "output_type": "execute_result",
          "data": {
            "text/plain": [
              "0       121.55\n",
              "1       120.90\n",
              "2       120.65\n",
              "3       117.60\n",
              "4       118.65\n",
              "         ...  \n",
              "2030    233.30\n",
              "2031    236.10\n",
              "2032    234.25\n",
              "2033    233.25\n",
              "2034    233.75\n",
              "Name: Close, Length: 2035, dtype: float64"
            ]
          },
          "metadata": {},
          "execution_count": 10
        }
      ]
    },
    {
      "cell_type": "code",
      "source": [
        "scaler = MinMaxScaler(feature_range=(0,1))\n",
        "scaler"
      ],
      "metadata": {
        "colab": {
          "base_uri": "https://localhost:8080/"
        },
        "id": "7ciXJgfnmA7b",
        "outputId": "bbe527dd-1e14-4a55-db72-eccfab5ade56"
      },
      "execution_count": 11,
      "outputs": [
        {
          "output_type": "execute_result",
          "data": {
            "text/plain": [
              "MinMaxScaler()"
            ]
          },
          "metadata": {},
          "execution_count": 11
        }
      ]
    },
    {
      "cell_type": "code",
      "source": [
        "df_close = scaler.fit_transform(np.array(df_close).reshape(-1,1))\n",
        "df_close"
      ],
      "metadata": {
        "colab": {
          "base_uri": "https://localhost:8080/"
        },
        "id": "7841FgEvmDpV",
        "outputId": "d03ea8a4-c8ca-460e-e25d-c6d9997497f3"
      },
      "execution_count": 12,
      "outputs": [
        {
          "output_type": "execute_result",
          "data": {
            "text/plain": [
              "array([[0.16584967],\n",
              "       [0.16319444],\n",
              "       [0.1621732 ],\n",
              "       ...,\n",
              "       [0.62622549],\n",
              "       [0.62214052],\n",
              "       [0.62418301]])"
            ]
          },
          "metadata": {},
          "execution_count": 12
        }
      ]
    },
    {
      "cell_type": "code",
      "source": [
        "training_size = int(len(df_close)*0.70)\n",
        "test_size = len(df_close) - training_size\n",
        "train, test = df_close[0: training_size,:], df_close[training_size : len(df_close),:1]"
      ],
      "metadata": {
        "id": "k21jMnB3mIK9"
      },
      "execution_count": 13,
      "outputs": []
    },
    {
      "cell_type": "code",
      "source": [
        "# Let us convert the array values previously calculated into a matrix\n",
        "def create_mat(ds, time_step = 1):\n",
        "    dataX, dataY = [], []\n",
        "    for i in range(len(ds)-time_step-1):\n",
        "        a = ds[i:(i+time_step),0]\n",
        "        dataX.append(a)\n",
        "        dataY.append(ds[i + time_step, 0])\n",
        "    return np.array(dataX), np.array(dataY)"
      ],
      "metadata": {
        "id": "Ep6e4OUrmKdA"
      },
      "execution_count": 14,
      "outputs": []
    },
    {
      "cell_type": "code",
      "source": [
        "time_step = 100\n",
        "X_train, y_train = create_mat(train, time_step)\n",
        "X_test, y_test = create_mat(test, time_step)"
      ],
      "metadata": {
        "id": "DdFdq58umMWG"
      },
      "execution_count": 15,
      "outputs": []
    },
    {
      "cell_type": "code",
      "source": [
        "X_train.shape"
      ],
      "metadata": {
        "colab": {
          "base_uri": "https://localhost:8080/"
        },
        "id": "dqFP4CpfmORX",
        "outputId": "c72bd836-6475-4fc0-f32a-11d6b3e7ef31"
      },
      "execution_count": 16,
      "outputs": [
        {
          "output_type": "execute_result",
          "data": {
            "text/plain": [
              "(1323, 100)"
            ]
          },
          "metadata": {},
          "execution_count": 16
        }
      ]
    },
    {
      "cell_type": "code",
      "source": [
        "y_train.shape"
      ],
      "metadata": {
        "colab": {
          "base_uri": "https://localhost:8080/"
        },
        "id": "lf3cspIwmQW1",
        "outputId": "89665429-e12b-4681-ac56-3b7eceed9991"
      },
      "execution_count": 17,
      "outputs": [
        {
          "output_type": "execute_result",
          "data": {
            "text/plain": [
              "(1323,)"
            ]
          },
          "metadata": {},
          "execution_count": 17
        }
      ]
    },
    {
      "cell_type": "code",
      "source": [
        "X_test.shape"
      ],
      "metadata": {
        "colab": {
          "base_uri": "https://localhost:8080/"
        },
        "id": "wNvROlTpmSS5",
        "outputId": "fc9f99b3-7382-463b-e1b5-9b3dd5f784ad"
      },
      "execution_count": 18,
      "outputs": [
        {
          "output_type": "execute_result",
          "data": {
            "text/plain": [
              "(510, 100)"
            ]
          },
          "metadata": {},
          "execution_count": 18
        }
      ]
    },
    {
      "cell_type": "code",
      "source": [
        "y_test.shape"
      ],
      "metadata": {
        "colab": {
          "base_uri": "https://localhost:8080/"
        },
        "id": "ctXZ_aK7mUDp",
        "outputId": "b2273f45-3473-4c33-ab19-69eb5518c67f"
      },
      "execution_count": 19,
      "outputs": [
        {
          "output_type": "execute_result",
          "data": {
            "text/plain": [
              "(510,)"
            ]
          },
          "metadata": {},
          "execution_count": 19
        }
      ]
    },
    {
      "cell_type": "code",
      "source": [
        "X_train = X_train.reshape(X_train.shape[0], X_train.shape[1], 1)\n",
        "X_test = X_test.reshape(X_test.shape[0], X_test.shape[1], 1)\n",
        "#It is now time to Create the LSTM Model"
      ],
      "metadata": {
        "id": "DejEuRxRmV19"
      },
      "execution_count": 20,
      "outputs": []
    },
    {
      "cell_type": "code",
      "source": [
        "from tensorflow.keras.models import Sequential\n",
        "from tensorflow.keras.layers import Dense\n",
        "from tensorflow.keras.layers import LSTM"
      ],
      "metadata": {
        "id": "nL34CHKnmXvZ"
      },
      "execution_count": 21,
      "outputs": []
    },
    {
      "cell_type": "code",
      "source": [
        "model = Sequential()\n",
        "model.add(LSTM(50,return_sequences=True,input_shape=(100,1)))\n",
        "model.add(LSTM(50,return_sequences=True))\n",
        "model.add(LSTM(50))\n",
        "model.add(Dense(1))\n",
        "model.compile(loss='mean_squared_error',optimizer='adam')\n",
        "model.summary()"
      ],
      "metadata": {
        "colab": {
          "base_uri": "https://localhost:8080/"
        },
        "id": "kQQY_02xmaPr",
        "outputId": "0eecd28f-0007-4a3a-b333-4db4b15166de"
      },
      "execution_count": 22,
      "outputs": [
        {
          "output_type": "stream",
          "name": "stdout",
          "text": [
            "Model: \"sequential\"\n",
            "_________________________________________________________________\n",
            " Layer (type)                Output Shape              Param #   \n",
            "=================================================================\n",
            " lstm (LSTM)                 (None, 100, 50)           10400     \n",
            "                                                                 \n",
            " lstm_1 (LSTM)               (None, 100, 50)           20200     \n",
            "                                                                 \n",
            " lstm_2 (LSTM)               (None, 50)                20200     \n",
            "                                                                 \n",
            " dense (Dense)               (None, 1)                 51        \n",
            "                                                                 \n",
            "=================================================================\n",
            "Total params: 50,851\n",
            "Trainable params: 50,851\n",
            "Non-trainable params: 0\n",
            "_________________________________________________________________\n"
          ]
        }
      ]
    },
    {
      "cell_type": "code",
      "source": [
        "model.fit(X_train, y_train, validation_split=0.1, epochs= 60, batch_size=64, verbose = 1)"
      ],
      "metadata": {
        "colab": {
          "base_uri": "https://localhost:8080/"
        },
        "id": "h22_KtN7mdqB",
        "outputId": "ae48cd5b-3337-4cc9-d1ab-8143496312ed"
      },
      "execution_count": 23,
      "outputs": [
        {
          "output_type": "stream",
          "name": "stdout",
          "text": [
            "Epoch 1/60\n",
            "19/19 [==============================] - 17s 476ms/step - loss: 0.0105 - val_loss: 0.0024\n",
            "Epoch 2/60\n",
            "19/19 [==============================] - 3s 184ms/step - loss: 0.0020 - val_loss: 0.0020\n",
            "Epoch 3/60\n",
            "19/19 [==============================] - 3s 182ms/step - loss: 0.0010 - val_loss: 0.0012\n",
            "Epoch 4/60\n",
            "19/19 [==============================] - 3s 179ms/step - loss: 8.5729e-04 - val_loss: 0.0012\n",
            "Epoch 5/60\n",
            "19/19 [==============================] - 3s 180ms/step - loss: 8.1765e-04 - val_loss: 0.0011\n",
            "Epoch 6/60\n",
            "19/19 [==============================] - 3s 182ms/step - loss: 7.9793e-04 - val_loss: 0.0011\n",
            "Epoch 7/60\n",
            "19/19 [==============================] - 3s 179ms/step - loss: 7.7429e-04 - val_loss: 0.0010\n",
            "Epoch 8/60\n",
            "19/19 [==============================] - 3s 180ms/step - loss: 7.4836e-04 - val_loss: 0.0010\n",
            "Epoch 9/60\n",
            "19/19 [==============================] - 3s 182ms/step - loss: 7.4768e-04 - val_loss: 9.8905e-04\n",
            "Epoch 10/60\n",
            "19/19 [==============================] - 3s 180ms/step - loss: 7.0983e-04 - val_loss: 9.0605e-04\n",
            "Epoch 11/60\n",
            "19/19 [==============================] - 3s 179ms/step - loss: 7.0426e-04 - val_loss: 8.5026e-04\n",
            "Epoch 12/60\n",
            "19/19 [==============================] - 3s 183ms/step - loss: 6.5904e-04 - val_loss: 8.2114e-04\n",
            "Epoch 13/60\n",
            "19/19 [==============================] - 3s 181ms/step - loss: 6.4396e-04 - val_loss: 8.1212e-04\n",
            "Epoch 14/60\n",
            "19/19 [==============================] - 3s 180ms/step - loss: 6.2069e-04 - val_loss: 8.8759e-04\n",
            "Epoch 15/60\n",
            "19/19 [==============================] - 3s 183ms/step - loss: 6.3069e-04 - val_loss: 6.9908e-04\n",
            "Epoch 16/60\n",
            "19/19 [==============================] - 3s 181ms/step - loss: 6.0096e-04 - val_loss: 8.9652e-04\n",
            "Epoch 17/60\n",
            "19/19 [==============================] - 3s 183ms/step - loss: 6.0633e-04 - val_loss: 6.6109e-04\n",
            "Epoch 18/60\n",
            "19/19 [==============================] - 4s 184ms/step - loss: 5.8217e-04 - val_loss: 8.8683e-04\n",
            "Epoch 19/60\n",
            "19/19 [==============================] - 3s 181ms/step - loss: 6.4444e-04 - val_loss: 6.5720e-04\n",
            "Epoch 20/60\n",
            "19/19 [==============================] - 5s 262ms/step - loss: 5.5994e-04 - val_loss: 7.2359e-04\n",
            "Epoch 21/60\n",
            "19/19 [==============================] - 3s 180ms/step - loss: 5.2640e-04 - val_loss: 5.8523e-04\n",
            "Epoch 22/60\n",
            "19/19 [==============================] - 4s 205ms/step - loss: 5.1774e-04 - val_loss: 5.5584e-04\n",
            "Epoch 23/60\n",
            "19/19 [==============================] - 6s 317ms/step - loss: 5.1036e-04 - val_loss: 5.8841e-04\n",
            "Epoch 24/60\n",
            "19/19 [==============================] - 3s 181ms/step - loss: 4.9082e-04 - val_loss: 6.2231e-04\n",
            "Epoch 25/60\n",
            "19/19 [==============================] - 3s 181ms/step - loss: 4.8331e-04 - val_loss: 5.0709e-04\n",
            "Epoch 26/60\n",
            "19/19 [==============================] - 3s 181ms/step - loss: 5.0555e-04 - val_loss: 7.0388e-04\n",
            "Epoch 27/60\n",
            "19/19 [==============================] - 3s 181ms/step - loss: 4.6402e-04 - val_loss: 4.6784e-04\n",
            "Epoch 28/60\n",
            "19/19 [==============================] - 3s 179ms/step - loss: 4.7541e-04 - val_loss: 6.8454e-04\n",
            "Epoch 29/60\n",
            "19/19 [==============================] - 3s 183ms/step - loss: 4.8973e-04 - val_loss: 4.9415e-04\n",
            "Epoch 30/60\n",
            "19/19 [==============================] - 3s 181ms/step - loss: 4.4032e-04 - val_loss: 4.5352e-04\n",
            "Epoch 31/60\n",
            "19/19 [==============================] - 3s 182ms/step - loss: 4.2534e-04 - val_loss: 4.2772e-04\n",
            "Epoch 32/60\n",
            "19/19 [==============================] - 3s 184ms/step - loss: 4.0765e-04 - val_loss: 4.1081e-04\n",
            "Epoch 33/60\n",
            "19/19 [==============================] - 3s 181ms/step - loss: 3.8470e-04 - val_loss: 3.8573e-04\n",
            "Epoch 34/60\n",
            "19/19 [==============================] - 3s 183ms/step - loss: 3.9358e-04 - val_loss: 3.7573e-04\n",
            "Epoch 35/60\n",
            "19/19 [==============================] - 3s 182ms/step - loss: 3.9879e-04 - val_loss: 3.8662e-04\n",
            "Epoch 36/60\n",
            "19/19 [==============================] - 4s 186ms/step - loss: 3.7880e-04 - val_loss: 4.7614e-04\n",
            "Epoch 37/60\n",
            "19/19 [==============================] - 3s 182ms/step - loss: 3.9607e-04 - val_loss: 3.4491e-04\n",
            "Epoch 38/60\n",
            "19/19 [==============================] - 3s 182ms/step - loss: 3.5315e-04 - val_loss: 3.3122e-04\n",
            "Epoch 39/60\n",
            "19/19 [==============================] - 3s 180ms/step - loss: 3.3891e-04 - val_loss: 3.4209e-04\n",
            "Epoch 40/60\n",
            "19/19 [==============================] - 3s 181ms/step - loss: 3.3238e-04 - val_loss: 3.2869e-04\n",
            "Epoch 41/60\n",
            "19/19 [==============================] - 3s 182ms/step - loss: 3.2050e-04 - val_loss: 2.9323e-04\n",
            "Epoch 42/60\n",
            "19/19 [==============================] - 3s 181ms/step - loss: 3.3873e-04 - val_loss: 4.4720e-04\n",
            "Epoch 43/60\n",
            "19/19 [==============================] - 3s 183ms/step - loss: 3.3572e-04 - val_loss: 2.8488e-04\n",
            "Epoch 44/60\n",
            "19/19 [==============================] - 3s 184ms/step - loss: 3.0370e-04 - val_loss: 2.7658e-04\n",
            "Epoch 45/60\n",
            "19/19 [==============================] - 3s 181ms/step - loss: 2.8838e-04 - val_loss: 2.5928e-04\n",
            "Epoch 46/60\n",
            "19/19 [==============================] - 4s 186ms/step - loss: 2.8531e-04 - val_loss: 2.6101e-04\n",
            "Epoch 47/60\n",
            "19/19 [==============================] - 3s 183ms/step - loss: 2.9136e-04 - val_loss: 2.4018e-04\n",
            "Epoch 48/60\n",
            "19/19 [==============================] - 3s 182ms/step - loss: 2.7020e-04 - val_loss: 2.4540e-04\n",
            "Epoch 49/60\n",
            "19/19 [==============================] - 3s 183ms/step - loss: 2.7976e-04 - val_loss: 2.5078e-04\n",
            "Epoch 50/60\n",
            "19/19 [==============================] - 3s 183ms/step - loss: 2.5879e-04 - val_loss: 2.3227e-04\n",
            "Epoch 51/60\n",
            "19/19 [==============================] - 3s 183ms/step - loss: 2.6147e-04 - val_loss: 2.2143e-04\n",
            "Epoch 52/60\n",
            "19/19 [==============================] - 3s 179ms/step - loss: 2.6462e-04 - val_loss: 2.2942e-04\n",
            "Epoch 53/60\n",
            "19/19 [==============================] - 4s 185ms/step - loss: 2.7011e-04 - val_loss: 2.1112e-04\n",
            "Epoch 54/60\n",
            "19/19 [==============================] - 3s 180ms/step - loss: 2.4238e-04 - val_loss: 2.2604e-04\n",
            "Epoch 55/60\n",
            "19/19 [==============================] - 4s 185ms/step - loss: 2.4658e-04 - val_loss: 2.6494e-04\n",
            "Epoch 56/60\n",
            "19/19 [==============================] - 4s 185ms/step - loss: 2.9770e-04 - val_loss: 2.2212e-04\n",
            "Epoch 57/60\n",
            "19/19 [==============================] - 3s 184ms/step - loss: 2.7982e-04 - val_loss: 2.0660e-04\n",
            "Epoch 58/60\n",
            "19/19 [==============================] - 3s 182ms/step - loss: 2.3394e-04 - val_loss: 1.9954e-04\n",
            "Epoch 59/60\n",
            "19/19 [==============================] - 3s 182ms/step - loss: 2.4039e-04 - val_loss: 1.9762e-04\n",
            "Epoch 60/60\n",
            "19/19 [==============================] - 3s 181ms/step - loss: 2.3334e-04 - val_loss: 2.4609e-04\n"
          ]
        },
        {
          "output_type": "execute_result",
          "data": {
            "text/plain": [
              "<keras.callbacks.History at 0x7f3af66866a0>"
            ]
          },
          "metadata": {},
          "execution_count": 23
        }
      ]
    },
    {
      "cell_type": "code",
      "source": [
        "predictions = model.predict(X_test)\n",
        "# performing inverse transform on predictions"
      ],
      "metadata": {
        "colab": {
          "base_uri": "https://localhost:8080/"
        },
        "id": "MdD3eWM8n0aq",
        "outputId": "9f1c7dca-b1c4-4fe7-cee2-050bb5534805"
      },
      "execution_count": 24,
      "outputs": [
        {
          "output_type": "stream",
          "name": "stdout",
          "text": [
            "16/16 [==============================] - 2s 35ms/step\n"
          ]
        }
      ]
    },
    {
      "cell_type": "code",
      "source": [
        "inv_predictions = scaler.inverse_transform(predictions)\n",
        "inv_predictions"
      ],
      "metadata": {
        "colab": {
          "base_uri": "https://localhost:8080/"
        },
        "id": "jPy09TrMn5MO",
        "outputId": "5d34e2dc-fc71-4130-c5cb-9529e482d27d"
      },
      "execution_count": 25,
      "outputs": [
        {
          "output_type": "execute_result",
          "data": {
            "text/plain": [
              "array([[143.71529 ],\n",
              "       [143.98741 ],\n",
              "       [143.35071 ],\n",
              "       [141.12883 ],\n",
              "       [139.35146 ],\n",
              "       [138.45499 ],\n",
              "       [139.10959 ],\n",
              "       [140.44429 ],\n",
              "       [141.09404 ],\n",
              "       [141.05301 ],\n",
              "       [140.90663 ],\n",
              "       [141.78677 ],\n",
              "       [142.544   ],\n",
              "       [143.95692 ],\n",
              "       [145.99103 ],\n",
              "       [144.88736 ],\n",
              "       [142.85683 ],\n",
              "       [142.06552 ],\n",
              "       [142.23822 ],\n",
              "       [146.12584 ],\n",
              "       [150.37231 ],\n",
              "       [153.18088 ],\n",
              "       [154.27533 ],\n",
              "       [152.97346 ],\n",
              "       [152.46243 ],\n",
              "       [151.98969 ],\n",
              "       [152.12206 ],\n",
              "       [153.43832 ],\n",
              "       [154.3205  ],\n",
              "       [154.60233 ],\n",
              "       [155.00027 ],\n",
              "       [154.17802 ],\n",
              "       [151.49269 ],\n",
              "       [146.45969 ],\n",
              "       [142.62744 ],\n",
              "       [140.8321  ],\n",
              "       [140.42192 ],\n",
              "       [139.70224 ],\n",
              "       [137.85753 ],\n",
              "       [134.69081 ],\n",
              "       [132.06352 ],\n",
              "       [130.46771 ],\n",
              "       [128.4122  ],\n",
              "       [127.333725],\n",
              "       [125.49592 ],\n",
              "       [123.113365],\n",
              "       [122.059525],\n",
              "       [121.50386 ],\n",
              "       [121.53739 ],\n",
              "       [120.80808 ],\n",
              "       [120.01814 ],\n",
              "       [119.51902 ],\n",
              "       [118.72915 ],\n",
              "       [118.62853 ],\n",
              "       [119.57385 ],\n",
              "       [121.11267 ],\n",
              "       [122.96074 ],\n",
              "       [124.00441 ],\n",
              "       [124.10098 ],\n",
              "       [124.14102 ],\n",
              "       [124.20063 ],\n",
              "       [124.00646 ],\n",
              "       [124.07733 ],\n",
              "       [124.36875 ],\n",
              "       [124.58502 ],\n",
              "       [124.69005 ],\n",
              "       [124.582   ],\n",
              "       [124.80718 ],\n",
              "       [125.198494],\n",
              "       [125.5646  ],\n",
              "       [125.06437 ],\n",
              "       [124.22705 ],\n",
              "       [122.98133 ],\n",
              "       [121.71372 ],\n",
              "       [120.37896 ],\n",
              "       [120.15923 ],\n",
              "       [120.50584 ],\n",
              "       [121.33601 ],\n",
              "       [122.40849 ],\n",
              "       [123.66596 ],\n",
              "       [124.8993  ],\n",
              "       [125.760025],\n",
              "       [126.316864],\n",
              "       [126.42873 ],\n",
              "       [126.276085],\n",
              "       [125.97726 ],\n",
              "       [126.46866 ],\n",
              "       [126.789085],\n",
              "       [127.62278 ],\n",
              "       [128.44011 ],\n",
              "       [128.96948 ],\n",
              "       [129.45279 ],\n",
              "       [130.29842 ],\n",
              "       [130.12347 ],\n",
              "       [129.68434 ],\n",
              "       [129.47894 ],\n",
              "       [129.50105 ],\n",
              "       [129.86102 ],\n",
              "       [130.64275 ],\n",
              "       [131.04088 ],\n",
              "       [131.3579  ],\n",
              "       [133.55173 ],\n",
              "       [137.5119  ],\n",
              "       [141.536   ],\n",
              "       [143.89087 ],\n",
              "       [145.71404 ],\n",
              "       [146.21222 ],\n",
              "       [145.80257 ],\n",
              "       [144.56448 ],\n",
              "       [143.14685 ],\n",
              "       [141.52275 ],\n",
              "       [140.7556  ],\n",
              "       [140.8471  ],\n",
              "       [141.79854 ],\n",
              "       [142.93005 ],\n",
              "       [143.29414 ],\n",
              "       [142.84209 ],\n",
              "       [142.00847 ],\n",
              "       [141.03354 ],\n",
              "       [141.85695 ],\n",
              "       [142.83801 ],\n",
              "       [144.0265  ],\n",
              "       [144.92656 ],\n",
              "       [145.19196 ],\n",
              "       [144.61714 ],\n",
              "       [143.60075 ],\n",
              "       [141.6729  ],\n",
              "       [140.52942 ],\n",
              "       [140.7278  ],\n",
              "       [142.68645 ],\n",
              "       [145.03247 ],\n",
              "       [147.17813 ],\n",
              "       [148.32755 ],\n",
              "       [147.68622 ],\n",
              "       [148.74446 ],\n",
              "       [150.59555 ],\n",
              "       [151.36507 ],\n",
              "       [151.72014 ],\n",
              "       [151.87569 ],\n",
              "       [151.79604 ],\n",
              "       [151.77248 ],\n",
              "       [152.26111 ],\n",
              "       [153.15358 ],\n",
              "       [154.08911 ],\n",
              "       [153.96722 ],\n",
              "       [153.37392 ],\n",
              "       [153.58745 ],\n",
              "       [153.76776 ],\n",
              "       [153.39526 ],\n",
              "       [152.50893 ],\n",
              "       [151.28812 ],\n",
              "       [150.96132 ],\n",
              "       [151.90901 ],\n",
              "       [152.94945 ],\n",
              "       [153.75412 ],\n",
              "       [154.06071 ],\n",
              "       [154.61107 ],\n",
              "       [154.65897 ],\n",
              "       [154.65175 ],\n",
              "       [156.0895  ],\n",
              "       [157.45424 ],\n",
              "       [157.88    ],\n",
              "       [156.66057 ],\n",
              "       [155.09436 ],\n",
              "       [154.50954 ],\n",
              "       [155.00275 ],\n",
              "       [155.60991 ],\n",
              "       [155.55986 ],\n",
              "       [155.75092 ],\n",
              "       [156.05869 ],\n",
              "       [155.80142 ],\n",
              "       [153.6146  ],\n",
              "       [151.70837 ],\n",
              "       [150.30156 ],\n",
              "       [148.693   ],\n",
              "       [146.52818 ],\n",
              "       [145.16559 ],\n",
              "       [145.9     ],\n",
              "       [147.12022 ],\n",
              "       [148.03206 ],\n",
              "       [149.52159 ],\n",
              "       [151.79353 ],\n",
              "       [154.45029 ],\n",
              "       [156.37463 ],\n",
              "       [156.52417 ],\n",
              "       [156.38924 ],\n",
              "       [156.0349  ],\n",
              "       [155.6467  ],\n",
              "       [154.7089  ],\n",
              "       [155.16922 ],\n",
              "       [157.04874 ],\n",
              "       [159.23358 ],\n",
              "       [160.45137 ],\n",
              "       [160.09467 ],\n",
              "       [159.1934  ],\n",
              "       [158.4494  ],\n",
              "       [157.46643 ],\n",
              "       [155.53748 ],\n",
              "       [152.58232 ],\n",
              "       [150.72646 ],\n",
              "       [150.05917 ],\n",
              "       [150.844   ],\n",
              "       [152.39297 ],\n",
              "       [153.25041 ],\n",
              "       [155.16342 ],\n",
              "       [156.27257 ],\n",
              "       [157.71042 ],\n",
              "       [161.67741 ],\n",
              "       [166.71658 ],\n",
              "       [171.71378 ],\n",
              "       [175.3191  ],\n",
              "       [176.37935 ],\n",
              "       [176.64195 ],\n",
              "       [175.54726 ],\n",
              "       [174.69475 ],\n",
              "       [173.21442 ],\n",
              "       [172.3253  ],\n",
              "       [171.52913 ],\n",
              "       [171.51253 ],\n",
              "       [172.36714 ],\n",
              "       [172.0618  ],\n",
              "       [171.3999  ],\n",
              "       [171.04391 ],\n",
              "       [170.31122 ],\n",
              "       [168.76228 ],\n",
              "       [167.86261 ],\n",
              "       [167.6596  ],\n",
              "       [169.17503 ],\n",
              "       [169.53891 ],\n",
              "       [167.59923 ],\n",
              "       [163.14406 ],\n",
              "       [161.83186 ],\n",
              "       [167.82603 ],\n",
              "       [180.63893 ],\n",
              "       [190.9454  ],\n",
              "       [196.39438 ],\n",
              "       [197.74303 ],\n",
              "       [194.39743 ],\n",
              "       [192.45407 ],\n",
              "       [191.73653 ],\n",
              "       [191.54753 ],\n",
              "       [190.66275 ],\n",
              "       [192.33694 ],\n",
              "       [195.26501 ],\n",
              "       [197.35846 ],\n",
              "       [196.49501 ],\n",
              "       [195.74593 ],\n",
              "       [199.05128 ],\n",
              "       [203.03102 ],\n",
              "       [205.71065 ],\n",
              "       [207.36922 ],\n",
              "       [208.92429 ],\n",
              "       [208.0445  ],\n",
              "       [208.00227 ],\n",
              "       [208.08409 ],\n",
              "       [209.157   ],\n",
              "       [211.40727 ],\n",
              "       [212.29315 ],\n",
              "       [211.43155 ],\n",
              "       [205.93605 ],\n",
              "       [198.86232 ],\n",
              "       [197.63298 ],\n",
              "       [197.75835 ],\n",
              "       [199.76762 ],\n",
              "       [202.8601  ],\n",
              "       [205.29889 ],\n",
              "       [205.66542 ],\n",
              "       [206.47101 ],\n",
              "       [207.33098 ],\n",
              "       [207.22955 ],\n",
              "       [206.6674  ],\n",
              "       [206.53899 ],\n",
              "       [207.72098 ],\n",
              "       [208.38518 ],\n",
              "       [208.14699 ],\n",
              "       [207.89056 ],\n",
              "       [206.49965 ],\n",
              "       [204.28957 ],\n",
              "       [202.16525 ],\n",
              "       [203.60707 ],\n",
              "       [204.62466 ],\n",
              "       [206.37903 ],\n",
              "       [211.86884 ],\n",
              "       [219.20517 ],\n",
              "       [224.00806 ],\n",
              "       [225.50864 ],\n",
              "       [224.2493  ],\n",
              "       [221.91571 ],\n",
              "       [223.87897 ],\n",
              "       [223.4908  ],\n",
              "       [221.52989 ],\n",
              "       [226.20491 ],\n",
              "       [230.602   ],\n",
              "       [231.64552 ],\n",
              "       [235.38663 ],\n",
              "       [240.66367 ],\n",
              "       [244.41573 ],\n",
              "       [248.58844 ],\n",
              "       [256.84152 ],\n",
              "       [262.58447 ],\n",
              "       [264.46783 ],\n",
              "       [264.10788 ],\n",
              "       [264.616   ],\n",
              "       [264.95578 ],\n",
              "       [269.03317 ],\n",
              "       [270.04108 ],\n",
              "       [271.66653 ],\n",
              "       [271.74316 ],\n",
              "       [269.26398 ],\n",
              "       [267.35443 ],\n",
              "       [264.83276 ],\n",
              "       [266.9805  ],\n",
              "       [272.05283 ],\n",
              "       [279.56372 ],\n",
              "       [280.28772 ],\n",
              "       [276.11526 ],\n",
              "       [272.16217 ],\n",
              "       [271.55573 ],\n",
              "       [274.2914  ],\n",
              "       [280.8558  ],\n",
              "       [285.81577 ],\n",
              "       [287.21848 ],\n",
              "       [287.56085 ],\n",
              "       [288.76233 ],\n",
              "       [289.63245 ],\n",
              "       [290.28397 ],\n",
              "       [294.45184 ],\n",
              "       [296.8108  ],\n",
              "       [296.3744  ],\n",
              "       [295.1805  ],\n",
              "       [294.90884 ],\n",
              "       [295.53488 ],\n",
              "       [298.08734 ],\n",
              "       [299.30826 ],\n",
              "       [298.841   ],\n",
              "       [297.73663 ],\n",
              "       [302.02036 ],\n",
              "       [305.41437 ],\n",
              "       [303.84985 ],\n",
              "       [299.94254 ],\n",
              "       [294.01685 ],\n",
              "       [291.55322 ],\n",
              "       [292.15344 ],\n",
              "       [292.85382 ],\n",
              "       [291.91623 ],\n",
              "       [290.81964 ],\n",
              "       [289.30557 ],\n",
              "       [289.23798 ],\n",
              "       [284.27557 ],\n",
              "       [278.57077 ],\n",
              "       [269.96594 ],\n",
              "       [263.72537 ],\n",
              "       [259.11484 ],\n",
              "       [263.16003 ],\n",
              "       [268.82584 ],\n",
              "       [270.8332  ],\n",
              "       [272.88895 ],\n",
              "       [272.8277  ],\n",
              "       [270.45364 ],\n",
              "       [266.75766 ],\n",
              "       [261.1232  ],\n",
              "       [255.25067 ],\n",
              "       [253.91292 ],\n",
              "       [253.435   ],\n",
              "       [256.84363 ],\n",
              "       [261.44824 ],\n",
              "       [264.66782 ],\n",
              "       [265.80106 ],\n",
              "       [265.20825 ],\n",
              "       [264.47443 ],\n",
              "       [263.45062 ],\n",
              "       [260.59433 ],\n",
              "       [260.14264 ],\n",
              "       [259.09985 ],\n",
              "       [261.2911  ],\n",
              "       [264.8416  ],\n",
              "       [267.19034 ],\n",
              "       [268.23688 ],\n",
              "       [265.3807  ],\n",
              "       [257.29803 ],\n",
              "       [251.62495 ],\n",
              "       [250.73189 ],\n",
              "       [250.4527  ],\n",
              "       [249.94223 ],\n",
              "       [251.42757 ],\n",
              "       [253.80083 ],\n",
              "       [253.20848 ],\n",
              "       [258.75272 ],\n",
              "       [263.74805 ],\n",
              "       [263.7555  ],\n",
              "       [262.53543 ],\n",
              "       [261.52667 ],\n",
              "       [263.14255 ],\n",
              "       [264.21957 ],\n",
              "       [263.687   ],\n",
              "       [262.77557 ],\n",
              "       [262.96237 ],\n",
              "       [265.28214 ],\n",
              "       [267.9071  ],\n",
              "       [270.53665 ],\n",
              "       [272.7507  ],\n",
              "       [273.76083 ],\n",
              "       [272.68582 ],\n",
              "       [271.07773 ],\n",
              "       [272.5609  ],\n",
              "       [275.5844  ],\n",
              "       [277.98862 ],\n",
              "       [281.07288 ],\n",
              "       [281.1677  ],\n",
              "       [277.38858 ],\n",
              "       [274.41125 ],\n",
              "       [276.14914 ],\n",
              "       [277.21634 ],\n",
              "       [278.12204 ],\n",
              "       [275.91846 ],\n",
              "       [274.39465 ],\n",
              "       [260.8866  ],\n",
              "       [242.7374  ],\n",
              "       [232.16473 ],\n",
              "       [233.55156 ],\n",
              "       [237.7936  ],\n",
              "       [240.06984 ],\n",
              "       [241.76746 ],\n",
              "       [243.70488 ],\n",
              "       [246.38968 ],\n",
              "       [249.23149 ],\n",
              "       [251.64517 ],\n",
              "       [251.29709 ],\n",
              "       [252.4631  ],\n",
              "       [255.77904 ],\n",
              "       [256.00424 ],\n",
              "       [251.2518  ],\n",
              "       [250.12509 ],\n",
              "       [252.44884 ],\n",
              "       [255.51369 ],\n",
              "       [257.2121  ],\n",
              "       [256.18695 ],\n",
              "       [256.0912  ],\n",
              "       [257.47876 ],\n",
              "       [262.0518  ],\n",
              "       [263.56143 ],\n",
              "       [263.9813  ],\n",
              "       [260.63116 ],\n",
              "       [254.63918 ],\n",
              "       [249.51927 ],\n",
              "       [249.16464 ],\n",
              "       [252.12337 ],\n",
              "       [256.02957 ],\n",
              "       [257.62723 ],\n",
              "       [256.70453 ],\n",
              "       [257.3886  ],\n",
              "       [256.62494 ],\n",
              "       [261.9792  ],\n",
              "       [266.18082 ],\n",
              "       [264.95746 ],\n",
              "       [259.902   ],\n",
              "       [259.53683 ],\n",
              "       [261.53192 ],\n",
              "       [261.25827 ],\n",
              "       [258.10287 ],\n",
              "       [252.79803 ],\n",
              "       [242.7367  ],\n",
              "       [237.64827 ],\n",
              "       [233.84566 ],\n",
              "       [229.84291 ],\n",
              "       [230.07005 ],\n",
              "       [234.16064 ],\n",
              "       [238.9769  ],\n",
              "       [237.76508 ],\n",
              "       [234.96672 ],\n",
              "       [234.34914 ],\n",
              "       [235.0031  ],\n",
              "       [237.54494 ],\n",
              "       [235.1897  ],\n",
              "       [231.28833 ],\n",
              "       [228.56358 ],\n",
              "       [229.74573 ],\n",
              "       [231.40231 ],\n",
              "       [231.7352  ],\n",
              "       [231.66933 ],\n",
              "       [230.0631  ],\n",
              "       [228.85628 ],\n",
              "       [229.71127 ],\n",
              "       [231.83205 ],\n",
              "       [234.85359 ],\n",
              "       [237.66876 ],\n",
              "       [237.19762 ],\n",
              "       [233.2867  ],\n",
              "       [227.94661 ],\n",
              "       [227.11067 ],\n",
              "       [227.48164 ],\n",
              "       [228.41539 ],\n",
              "       [229.76889 ],\n",
              "       [230.0344  ],\n",
              "       [230.57385 ],\n",
              "       [225.88959 ],\n",
              "       [220.1985  ],\n",
              "       [216.55475 ],\n",
              "       [216.4331  ],\n",
              "       [217.56895 ],\n",
              "       [216.192   ],\n",
              "       [216.78247 ],\n",
              "       [222.72247 ],\n",
              "       [229.43799 ],\n",
              "       [232.42355 ],\n",
              "       [232.01796 ],\n",
              "       [230.20523 ],\n",
              "       [228.17992 ],\n",
              "       [228.12341 ],\n",
              "       [228.35709 ]], dtype=float32)"
            ]
          },
          "metadata": {},
          "execution_count": 25
        }
      ]
    },
    {
      "cell_type": "code",
      "source": [
        "import math\n",
        "from sklearn.metrics import mean_squared_error\n"
      ],
      "metadata": {
        "id": "x0WzDv2wn94D"
      },
      "execution_count": 26,
      "outputs": []
    },
    {
      "cell_type": "markdown",
      "source": [
        "**MSE Value**"
      ],
      "metadata": {
        "id": "0AwD8USVoCDM"
      }
    },
    {
      "cell_type": "code",
      "source": [
        "mse = math.sqrt(mean_squared_error(y_test, predictions))\n",
        "print(\"The Mean Squared Error for above model is: \", mse)\n"
      ],
      "metadata": {
        "colab": {
          "base_uri": "https://localhost:8080/"
        },
        "id": "ts-VHP6HoMCx",
        "outputId": "3abb9b4a-0780-4adc-e1c8-6fffefe0ed17"
      },
      "execution_count": 27,
      "outputs": [
        {
          "output_type": "stream",
          "name": "stdout",
          "text": [
            "The Mean Squared Error for above model is:  0.03615572937875827\n"
          ]
        }
      ]
    }
  ]
}